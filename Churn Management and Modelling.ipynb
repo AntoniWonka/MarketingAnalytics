{
  "nbformat": 4,
  "nbformat_minor": 0,
  "metadata": {
    "colab": {
      "provenance": []
    },
    "kernelspec": {
      "name": "python3",
      "display_name": "Python 3"
    },
    "language_info": {
      "name": "python"
    }
  },
  "cells": [
    {
      "cell_type": "code",
      "execution_count": 8,
      "metadata": {
        "id": "E4i9zfT7v05r"
      },
      "outputs": [],
      "source": [
        "#Imports\n",
        "import numpy as np\n",
        "import pandas as pd\n",
        "from sklearn.linear_model import LogisticRegression\n",
        "from sklearn.preprocessing import StandardScaler\n",
        "import statsmodels.api as sm\n",
        "import matplotlib.pyplot as plt"
      ]
    },
    {
      "cell_type": "code",
      "source": [
        "#Load dataset\n",
        "df = pd.read_csv('data_ass2_wk4.csv')\n",
        "df.head()"
      ],
      "metadata": {
        "colab": {
          "base_uri": "https://localhost:8080/",
          "height": 206
        },
        "id": "Xg4Aot4KwWSj",
        "outputId": "5d8fd10a-3f3f-4b05-b41c-6093a0fd4760"
      },
      "execution_count": 9,
      "outputs": [
        {
          "output_type": "execute_result",
          "data": {
            "text/plain": [
              "   CustomerId  ProfitScore  Exited  Age  Cumamountpaidout  Numofinsurances  \\\n",
              "0    15704442          672       1   53         169406.33                4   \n",
              "1    15607993          625       0   52          79468.96                1   \n",
              "2    15635502          443       0   44              0.00                1   \n",
              "3    15631912          840       0   30         136291.71                1   \n",
              "4    15788539          501       0   34         107747.57                1   \n",
              "\n",
              "   EstimatedSalary  Geography  Estimationsample  \n",
              "0        147311.47  Argentina                 1  \n",
              "1         84606.03  Argentina                 1  \n",
              "2        159165.70  Argentina                 0  \n",
              "3         54113.38  Argentina                 0  \n",
              "4          9249.36  Argentina                 0  "
            ],
            "text/html": [
              "\n",
              "  <div id=\"df-b18f118d-6c41-41b8-bd89-82e16bcb5da7\" class=\"colab-df-container\">\n",
              "    <div>\n",
              "<style scoped>\n",
              "    .dataframe tbody tr th:only-of-type {\n",
              "        vertical-align: middle;\n",
              "    }\n",
              "\n",
              "    .dataframe tbody tr th {\n",
              "        vertical-align: top;\n",
              "    }\n",
              "\n",
              "    .dataframe thead th {\n",
              "        text-align: right;\n",
              "    }\n",
              "</style>\n",
              "<table border=\"1\" class=\"dataframe\">\n",
              "  <thead>\n",
              "    <tr style=\"text-align: right;\">\n",
              "      <th></th>\n",
              "      <th>CustomerId</th>\n",
              "      <th>ProfitScore</th>\n",
              "      <th>Exited</th>\n",
              "      <th>Age</th>\n",
              "      <th>Cumamountpaidout</th>\n",
              "      <th>Numofinsurances</th>\n",
              "      <th>EstimatedSalary</th>\n",
              "      <th>Geography</th>\n",
              "      <th>Estimationsample</th>\n",
              "    </tr>\n",
              "  </thead>\n",
              "  <tbody>\n",
              "    <tr>\n",
              "      <th>0</th>\n",
              "      <td>15704442</td>\n",
              "      <td>672</td>\n",
              "      <td>1</td>\n",
              "      <td>53</td>\n",
              "      <td>169406.33</td>\n",
              "      <td>4</td>\n",
              "      <td>147311.47</td>\n",
              "      <td>Argentina</td>\n",
              "      <td>1</td>\n",
              "    </tr>\n",
              "    <tr>\n",
              "      <th>1</th>\n",
              "      <td>15607993</td>\n",
              "      <td>625</td>\n",
              "      <td>0</td>\n",
              "      <td>52</td>\n",
              "      <td>79468.96</td>\n",
              "      <td>1</td>\n",
              "      <td>84606.03</td>\n",
              "      <td>Argentina</td>\n",
              "      <td>1</td>\n",
              "    </tr>\n",
              "    <tr>\n",
              "      <th>2</th>\n",
              "      <td>15635502</td>\n",
              "      <td>443</td>\n",
              "      <td>0</td>\n",
              "      <td>44</td>\n",
              "      <td>0.00</td>\n",
              "      <td>1</td>\n",
              "      <td>159165.70</td>\n",
              "      <td>Argentina</td>\n",
              "      <td>0</td>\n",
              "    </tr>\n",
              "    <tr>\n",
              "      <th>3</th>\n",
              "      <td>15631912</td>\n",
              "      <td>840</td>\n",
              "      <td>0</td>\n",
              "      <td>30</td>\n",
              "      <td>136291.71</td>\n",
              "      <td>1</td>\n",
              "      <td>54113.38</td>\n",
              "      <td>Argentina</td>\n",
              "      <td>0</td>\n",
              "    </tr>\n",
              "    <tr>\n",
              "      <th>4</th>\n",
              "      <td>15788539</td>\n",
              "      <td>501</td>\n",
              "      <td>0</td>\n",
              "      <td>34</td>\n",
              "      <td>107747.57</td>\n",
              "      <td>1</td>\n",
              "      <td>9249.36</td>\n",
              "      <td>Argentina</td>\n",
              "      <td>0</td>\n",
              "    </tr>\n",
              "  </tbody>\n",
              "</table>\n",
              "</div>\n",
              "    <div class=\"colab-df-buttons\">\n",
              "\n",
              "  <div class=\"colab-df-container\">\n",
              "    <button class=\"colab-df-convert\" onclick=\"convertToInteractive('df-b18f118d-6c41-41b8-bd89-82e16bcb5da7')\"\n",
              "            title=\"Convert this dataframe to an interactive table.\"\n",
              "            style=\"display:none;\">\n",
              "\n",
              "  <svg xmlns=\"http://www.w3.org/2000/svg\" height=\"24px\" viewBox=\"0 -960 960 960\">\n",
              "    <path d=\"M120-120v-720h720v720H120Zm60-500h600v-160H180v160Zm220 220h160v-160H400v160Zm0 220h160v-160H400v160ZM180-400h160v-160H180v160Zm440 0h160v-160H620v160ZM180-180h160v-160H180v160Zm440 0h160v-160H620v160Z\"/>\n",
              "  </svg>\n",
              "    </button>\n",
              "\n",
              "  <style>\n",
              "    .colab-df-container {\n",
              "      display:flex;\n",
              "      gap: 12px;\n",
              "    }\n",
              "\n",
              "    .colab-df-convert {\n",
              "      background-color: #E8F0FE;\n",
              "      border: none;\n",
              "      border-radius: 50%;\n",
              "      cursor: pointer;\n",
              "      display: none;\n",
              "      fill: #1967D2;\n",
              "      height: 32px;\n",
              "      padding: 0 0 0 0;\n",
              "      width: 32px;\n",
              "    }\n",
              "\n",
              "    .colab-df-convert:hover {\n",
              "      background-color: #E2EBFA;\n",
              "      box-shadow: 0px 1px 2px rgba(60, 64, 67, 0.3), 0px 1px 3px 1px rgba(60, 64, 67, 0.15);\n",
              "      fill: #174EA6;\n",
              "    }\n",
              "\n",
              "    .colab-df-buttons div {\n",
              "      margin-bottom: 4px;\n",
              "    }\n",
              "\n",
              "    [theme=dark] .colab-df-convert {\n",
              "      background-color: #3B4455;\n",
              "      fill: #D2E3FC;\n",
              "    }\n",
              "\n",
              "    [theme=dark] .colab-df-convert:hover {\n",
              "      background-color: #434B5C;\n",
              "      box-shadow: 0px 1px 3px 1px rgba(0, 0, 0, 0.15);\n",
              "      filter: drop-shadow(0px 1px 2px rgba(0, 0, 0, 0.3));\n",
              "      fill: #FFFFFF;\n",
              "    }\n",
              "  </style>\n",
              "\n",
              "    <script>\n",
              "      const buttonEl =\n",
              "        document.querySelector('#df-b18f118d-6c41-41b8-bd89-82e16bcb5da7 button.colab-df-convert');\n",
              "      buttonEl.style.display =\n",
              "        google.colab.kernel.accessAllowed ? 'block' : 'none';\n",
              "\n",
              "      async function convertToInteractive(key) {\n",
              "        const element = document.querySelector('#df-b18f118d-6c41-41b8-bd89-82e16bcb5da7');\n",
              "        const dataTable =\n",
              "          await google.colab.kernel.invokeFunction('convertToInteractive',\n",
              "                                                    [key], {});\n",
              "        if (!dataTable) return;\n",
              "\n",
              "        const docLinkHtml = 'Like what you see? Visit the ' +\n",
              "          '<a target=\"_blank\" href=https://colab.research.google.com/notebooks/data_table.ipynb>data table notebook</a>'\n",
              "          + ' to learn more about interactive tables.';\n",
              "        element.innerHTML = '';\n",
              "        dataTable['output_type'] = 'display_data';\n",
              "        await google.colab.output.renderOutput(dataTable, element);\n",
              "        const docLink = document.createElement('div');\n",
              "        docLink.innerHTML = docLinkHtml;\n",
              "        element.appendChild(docLink);\n",
              "      }\n",
              "    </script>\n",
              "  </div>\n",
              "\n",
              "\n",
              "<div id=\"df-faa86e13-4f34-49fa-8270-3050c790141a\">\n",
              "  <button class=\"colab-df-quickchart\" onclick=\"quickchart('df-faa86e13-4f34-49fa-8270-3050c790141a')\"\n",
              "            title=\"Suggest charts\"\n",
              "            style=\"display:none;\">\n",
              "\n",
              "<svg xmlns=\"http://www.w3.org/2000/svg\" height=\"24px\"viewBox=\"0 0 24 24\"\n",
              "     width=\"24px\">\n",
              "    <g>\n",
              "        <path d=\"M19 3H5c-1.1 0-2 .9-2 2v14c0 1.1.9 2 2 2h14c1.1 0 2-.9 2-2V5c0-1.1-.9-2-2-2zM9 17H7v-7h2v7zm4 0h-2V7h2v10zm4 0h-2v-4h2v4z\"/>\n",
              "    </g>\n",
              "</svg>\n",
              "  </button>\n",
              "\n",
              "<style>\n",
              "  .colab-df-quickchart {\n",
              "      --bg-color: #E8F0FE;\n",
              "      --fill-color: #1967D2;\n",
              "      --hover-bg-color: #E2EBFA;\n",
              "      --hover-fill-color: #174EA6;\n",
              "      --disabled-fill-color: #AAA;\n",
              "      --disabled-bg-color: #DDD;\n",
              "  }\n",
              "\n",
              "  [theme=dark] .colab-df-quickchart {\n",
              "      --bg-color: #3B4455;\n",
              "      --fill-color: #D2E3FC;\n",
              "      --hover-bg-color: #434B5C;\n",
              "      --hover-fill-color: #FFFFFF;\n",
              "      --disabled-bg-color: #3B4455;\n",
              "      --disabled-fill-color: #666;\n",
              "  }\n",
              "\n",
              "  .colab-df-quickchart {\n",
              "    background-color: var(--bg-color);\n",
              "    border: none;\n",
              "    border-radius: 50%;\n",
              "    cursor: pointer;\n",
              "    display: none;\n",
              "    fill: var(--fill-color);\n",
              "    height: 32px;\n",
              "    padding: 0;\n",
              "    width: 32px;\n",
              "  }\n",
              "\n",
              "  .colab-df-quickchart:hover {\n",
              "    background-color: var(--hover-bg-color);\n",
              "    box-shadow: 0 1px 2px rgba(60, 64, 67, 0.3), 0 1px 3px 1px rgba(60, 64, 67, 0.15);\n",
              "    fill: var(--button-hover-fill-color);\n",
              "  }\n",
              "\n",
              "  .colab-df-quickchart-complete:disabled,\n",
              "  .colab-df-quickchart-complete:disabled:hover {\n",
              "    background-color: var(--disabled-bg-color);\n",
              "    fill: var(--disabled-fill-color);\n",
              "    box-shadow: none;\n",
              "  }\n",
              "\n",
              "  .colab-df-spinner {\n",
              "    border: 2px solid var(--fill-color);\n",
              "    border-color: transparent;\n",
              "    border-bottom-color: var(--fill-color);\n",
              "    animation:\n",
              "      spin 1s steps(1) infinite;\n",
              "  }\n",
              "\n",
              "  @keyframes spin {\n",
              "    0% {\n",
              "      border-color: transparent;\n",
              "      border-bottom-color: var(--fill-color);\n",
              "      border-left-color: var(--fill-color);\n",
              "    }\n",
              "    20% {\n",
              "      border-color: transparent;\n",
              "      border-left-color: var(--fill-color);\n",
              "      border-top-color: var(--fill-color);\n",
              "    }\n",
              "    30% {\n",
              "      border-color: transparent;\n",
              "      border-left-color: var(--fill-color);\n",
              "      border-top-color: var(--fill-color);\n",
              "      border-right-color: var(--fill-color);\n",
              "    }\n",
              "    40% {\n",
              "      border-color: transparent;\n",
              "      border-right-color: var(--fill-color);\n",
              "      border-top-color: var(--fill-color);\n",
              "    }\n",
              "    60% {\n",
              "      border-color: transparent;\n",
              "      border-right-color: var(--fill-color);\n",
              "    }\n",
              "    80% {\n",
              "      border-color: transparent;\n",
              "      border-right-color: var(--fill-color);\n",
              "      border-bottom-color: var(--fill-color);\n",
              "    }\n",
              "    90% {\n",
              "      border-color: transparent;\n",
              "      border-bottom-color: var(--fill-color);\n",
              "    }\n",
              "  }\n",
              "</style>\n",
              "\n",
              "  <script>\n",
              "    async function quickchart(key) {\n",
              "      const quickchartButtonEl =\n",
              "        document.querySelector('#' + key + ' button');\n",
              "      quickchartButtonEl.disabled = true;  // To prevent multiple clicks.\n",
              "      quickchartButtonEl.classList.add('colab-df-spinner');\n",
              "      try {\n",
              "        const charts = await google.colab.kernel.invokeFunction(\n",
              "            'suggestCharts', [key], {});\n",
              "      } catch (error) {\n",
              "        console.error('Error during call to suggestCharts:', error);\n",
              "      }\n",
              "      quickchartButtonEl.classList.remove('colab-df-spinner');\n",
              "      quickchartButtonEl.classList.add('colab-df-quickchart-complete');\n",
              "    }\n",
              "    (() => {\n",
              "      let quickchartButtonEl =\n",
              "        document.querySelector('#df-faa86e13-4f34-49fa-8270-3050c790141a button');\n",
              "      quickchartButtonEl.style.display =\n",
              "        google.colab.kernel.accessAllowed ? 'block' : 'none';\n",
              "    })();\n",
              "  </script>\n",
              "</div>\n",
              "\n",
              "    </div>\n",
              "  </div>\n"
            ],
            "application/vnd.google.colaboratory.intrinsic+json": {
              "type": "dataframe",
              "variable_name": "df",
              "summary": "{\n  \"name\": \"df\",\n  \"rows\": 8000,\n  \"fields\": [\n    {\n      \"column\": \"CustomerId\",\n      \"properties\": {\n        \"dtype\": \"number\",\n        \"std\": 71825,\n        \"min\": 15565701,\n        \"max\": 15815690,\n        \"num_unique_values\": 8000,\n        \"samples\": [\n          15754929,\n          15646632,\n          15663410\n        ],\n        \"semantic_type\": \"\",\n        \"description\": \"\"\n      }\n    },\n    {\n      \"column\": \"ProfitScore\",\n      \"properties\": {\n        \"dtype\": \"number\",\n        \"std\": 96,\n        \"min\": 350,\n        \"max\": 850,\n        \"num_unique_values\": 457,\n        \"samples\": [\n          720,\n          802,\n          767\n        ],\n        \"semantic_type\": \"\",\n        \"description\": \"\"\n      }\n    },\n    {\n      \"column\": \"Exited\",\n      \"properties\": {\n        \"dtype\": \"number\",\n        \"std\": 0,\n        \"min\": 0,\n        \"max\": 1,\n        \"num_unique_values\": 2,\n        \"samples\": [\n          0,\n          1\n        ],\n        \"semantic_type\": \"\",\n        \"description\": \"\"\n      }\n    },\n    {\n      \"column\": \"Age\",\n      \"properties\": {\n        \"dtype\": \"number\",\n        \"std\": 10,\n        \"min\": 18,\n        \"max\": 92,\n        \"num_unique_values\": 69,\n        \"samples\": [\n          46,\n          53\n        ],\n        \"semantic_type\": \"\",\n        \"description\": \"\"\n      }\n    },\n    {\n      \"column\": \"Cumamountpaidout\",\n      \"properties\": {\n        \"dtype\": \"number\",\n        \"std\": 62472.05264754928,\n        \"min\": 0.0,\n        \"max\": 250898.09,\n        \"num_unique_values\": 5113,\n        \"samples\": [\n          170057.62,\n          171787.84\n        ],\n        \"semantic_type\": \"\",\n        \"description\": \"\"\n      }\n    },\n    {\n      \"column\": \"Numofinsurances\",\n      \"properties\": {\n        \"dtype\": \"number\",\n        \"std\": 0,\n        \"min\": 1,\n        \"max\": 4,\n        \"num_unique_values\": 4,\n        \"samples\": [\n          1,\n          3\n        ],\n        \"semantic_type\": \"\",\n        \"description\": \"\"\n      }\n    },\n    {\n      \"column\": \"EstimatedSalary\",\n      \"properties\": {\n        \"dtype\": \"number\",\n        \"std\": 57402.23894417626,\n        \"min\": 11.58,\n        \"max\": 199992.48,\n        \"num_unique_values\": 8000,\n        \"samples\": [\n          192519.39,\n          14379.01\n        ],\n        \"semantic_type\": \"\",\n        \"description\": \"\"\n      }\n    },\n    {\n      \"column\": \"Geography\",\n      \"properties\": {\n        \"dtype\": \"category\",\n        \"num_unique_values\": 3,\n        \"samples\": [\n          \"Argentina\",\n          \"Chile\"\n        ],\n        \"semantic_type\": \"\",\n        \"description\": \"\"\n      }\n    },\n    {\n      \"column\": \"Estimationsample\",\n      \"properties\": {\n        \"dtype\": \"number\",\n        \"std\": 0,\n        \"min\": 0,\n        \"max\": 1,\n        \"num_unique_values\": 2,\n        \"samples\": [\n          0,\n          1\n        ],\n        \"semantic_type\": \"\",\n        \"description\": \"\"\n      }\n    }\n  ]\n}"
            }
          },
          "metadata": {},
          "execution_count": 9
        }
      ]
    },
    {
      "cell_type": "code",
      "source": [
        "#Question 1: retention rate\n",
        "total = 0\n",
        "total_stayed = 0\n",
        "for index, i in enumerate(df['Exited']):\n",
        "  if df['Estimationsample'][index] == 0:\n",
        "    total += 1\n",
        "    if i == 0:\n",
        "      total_stayed += 1\n",
        "\n",
        "loyalty_rate = total_stayed / total\n",
        "\n",
        "print(f'Current Loyalty Rate: {loyalty_rate}')"
      ],
      "metadata": {
        "colab": {
          "base_uri": "https://localhost:8080/"
        },
        "id": "qbhwwMHlwnCN",
        "outputId": "89167598-1cd7-432d-9b35-4db17b607bd2"
      },
      "execution_count": 10,
      "outputs": [
        {
          "output_type": "stream",
          "name": "stdout",
          "text": [
            "Current Loyalty Rate: 0.7317948717948718\n"
          ]
        }
      ]
    },
    {
      "cell_type": "code",
      "source": [
        "#Question 2: CLV of customers\n",
        "#Taking only the current customers for calculating equity\n",
        "M = 10\n",
        "C = 4\n",
        "r = loyalty_rate\n",
        "AC = 15\n",
        "\n",
        "CLV = ((M - C) / (1 - r)) - AC\n",
        "\n",
        "customer_equity = CLV * total_stayed\n",
        "\n",
        "print(f'CLV of a customer = {CLV}')\n",
        "print(f'Customer equity = {customer_equity}')"
      ],
      "metadata": {
        "colab": {
          "base_uri": "https://localhost:8080/"
        },
        "id": "EwxDeo4TxbuU",
        "outputId": "e495406a-9e55-4ac8-aa96-fb03189e0e2d"
      },
      "execution_count": 11,
      "outputs": [
        {
          "output_type": "stream",
          "name": "stdout",
          "text": [
            "CLV of a customer = 7.37093690248566\n",
            "Customer equity = 21036.653919694072\n"
          ]
        }
      ]
    },
    {
      "cell_type": "code",
      "source": [
        "#Question 3: Manager Scenarios\n",
        "\n",
        "#Scenario 1:\n",
        "r_scenario_1 = r + 0.005\n",
        "C_scenario_1 = 5\n",
        "CLV_scenario_1 = ((M - C_scenario_1) / (1 - r_scenario_1)) - AC\n",
        "customer_equity_scenario_1 = CLV_scenario_1 * total_stayed\n",
        "\n",
        "#Scenario 2:\n",
        "AC_scenario_2 = 15.5\n",
        "CLV_scenario_2 = ((M - C) / (1 - r)) - AC_scenario_2\n",
        "customer_equity_scenario_2 = CLV * (total_stayed * 1.08)\n",
        "\n",
        "print(f'Current customer equity = {customer_equity}')\n",
        "print(f'Scenario 1 - customer equity = {customer_equity_scenario_1}')\n",
        "print(f'Scenario 1 - CLV = {CLV_scenario_1}')\n",
        "print(f'Scenario 2 - customer equity = {customer_equity_scenario_2}')\n",
        "print(f'Scenario 2 - CLV = {CLV_scenario_2}')"
      ],
      "metadata": {
        "colab": {
          "base_uri": "https://localhost:8080/"
        },
        "id": "jFXdxePM3SKO",
        "outputId": "7b5347ea-0ff4-499d-f94e-6f44465ffdd6"
      },
      "execution_count": 12,
      "outputs": [
        {
          "output_type": "stream",
          "name": "stdout",
          "text": [
            "Current customer equity = 21036.653919694072\n",
            "Scenario 1 - customer equity = 11406.268874817342\n",
            "Scenario 1 - CLV = 3.9965903555772044\n",
            "Scenario 2 - customer equity = 22719.5862332696\n",
            "Scenario 2 - CLV = 6.87093690248566\n"
          ]
        }
      ]
    },
    {
      "cell_type": "markdown",
      "source": [
        "Scenario 1 has the highest customer equity, and thus focus on retention"
      ],
      "metadata": {
        "id": "OTqe9ds34zRQ"
      }
    },
    {
      "cell_type": "code",
      "source": [
        "#Question 4: Logistic Regression - retention\n",
        "estsample = df[df[\"Estimationsample\"]==0]\n",
        "\n",
        "X_sample = estsample[[\"ProfitScore\", \"Age\", \"Cumamountpaidout\", \"Numofinsurances\", \"EstimatedSalary\",\"Geography\"]]\n",
        "X = pd.get_dummies(X_sample,columns=[\"Geography\"],dtype=float).drop(columns=\"Geography_Argentina\")\n",
        "y = estsample[[\"Exited\"]]\n",
        "\n",
        "X = sm.add_constant(X)\n",
        "\n",
        "model = sm.Logit(y, X)\n",
        "result = model.fit()\n",
        "\n",
        "print(result.summary())"
      ],
      "metadata": {
        "colab": {
          "base_uri": "https://localhost:8080/"
        },
        "id": "qnURpVWKPLix",
        "outputId": "0a05a7af-6bb1-4a6d-a5cc-44f848bd5fb2"
      },
      "execution_count": 13,
      "outputs": [
        {
          "output_type": "stream",
          "name": "stdout",
          "text": [
            "Optimization terminated successfully.\n",
            "         Current function value: 0.451145\n",
            "         Iterations 6\n",
            "                           Logit Regression Results                           \n",
            "==============================================================================\n",
            "Dep. Variable:                 Exited   No. Observations:                 3900\n",
            "Model:                          Logit   Df Residuals:                     3892\n",
            "Method:                           MLE   Df Model:                            7\n",
            "Date:                Fri, 14 Mar 2025   Pseudo R-squ.:                  0.2241\n",
            "Time:                        11:36:51   Log-Likelihood:                -1759.5\n",
            "converged:                       True   LL-Null:                       -2267.7\n",
            "Covariance Type:            nonrobust   LLR p-value:                3.285e-215\n",
            "====================================================================================\n",
            "                       coef    std err          z      P>|z|      [0.025      0.975]\n",
            "------------------------------------------------------------------------------------\n",
            "const               -6.3297      0.398    -15.911      0.000      -7.109      -5.550\n",
            "ProfitScore         -0.0004      0.000     -0.999      0.318      -0.001       0.000\n",
            "Age                  0.1376      0.006     24.408      0.000       0.127       0.149\n",
            "Cumamountpaidout  2.339e-06   7.75e-07      3.018      0.003     8.2e-07    3.86e-06\n",
            "Numofinsurances     -0.2278      0.072     -3.166      0.002      -0.369      -0.087\n",
            "EstimatedSalary   2.775e-07   7.33e-07      0.379      0.705   -1.16e-06    1.71e-06\n",
            "Geography_Brazil     0.7735      0.105      7.339      0.000       0.567       0.980\n",
            "Geography_Chile      0.1578      0.107      1.476      0.140      -0.052       0.367\n",
            "====================================================================================\n"
          ]
        }
      ]
    },
    {
      "cell_type": "code",
      "source": [
        "#Question 5: Person 1 or 2 churn\n",
        "new_data = pd.DataFrame({\n",
        "    'const': [1, 1],\n",
        "    'ProfitScore': [580, 850],\n",
        "    'Age': [25, 54],\n",
        "    'Cumamountpaidout': [10000, 100000],\n",
        "    'Numofinsurances': [3, 1],\n",
        "    'EstimatedSalary': [100000, 50000],\n",
        "    'Geography_Brazil': [1, 0],\n",
        "    'Geography_Chile': [0, 1]\n",
        "})\n",
        "churn_probabilities = result.predict(new_data)\n",
        "\n",
        "print(f'Churn probability person 1: {churn_probabilities[0]}')\n",
        "print(f'Churn probability person 2: {churn_probabilities[1]}')"
      ],
      "metadata": {
        "colab": {
          "base_uri": "https://localhost:8080/"
        },
        "id": "Gx5nel8bE2Qs",
        "outputId": "f99e4c0d-12ef-461e-b0ef-f7f443f5a1f9"
      },
      "execution_count": 14,
      "outputs": [
        {
          "output_type": "stream",
          "name": "stdout",
          "text": [
            "Churn probability person 1: 0.04755941529030263\n",
            "Churn probability person 2: 0.7140173945822397\n"
          ]
        }
      ]
    },
    {
      "cell_type": "markdown",
      "source": [
        "Thus person 2 has the higher chance to churn."
      ],
      "metadata": {
        "id": "rLDmXU-OXhzU"
      }
    },
    {
      "cell_type": "code",
      "source": [
        "# Question 6: churn probabilities of the customers left\n",
        "df = df[df[\"Estimationsample\"]==1]\n",
        "\n",
        "X_sample = estsample[[\"ProfitScore\", \"Age\", \"Cumamountpaidout\", \"Numofinsurances\", \"EstimatedSalary\",\"Geography\"]]\n",
        "X = pd.get_dummies(X_sample,columns=[\"Geography\"],dtype=float).drop(columns=\"Geography_Argentina\")\n",
        "y = estsample[[\"Exited\"]]\n",
        "\n",
        "df = sm.add_constant(X)\n",
        "\n",
        "churn_probabilities = result.predict(df)\n",
        "\n",
        "df['PredictedChurn'] = churn_probabilities\n",
        "print(churn_probabilities)"
      ],
      "metadata": {
        "colab": {
          "base_uri": "https://localhost:8080/"
        },
        "id": "EwohXI5RFwyB",
        "outputId": "2bc6d0d7-9255-4870-986d-7aea7141904a"
      },
      "execution_count": 15,
      "outputs": [
        {
          "output_type": "stream",
          "name": "stdout",
          "text": [
            "2       0.343507\n",
            "3       0.079004\n",
            "4       0.137206\n",
            "6       0.445978\n",
            "7       0.233369\n",
            "          ...   \n",
            "7990    0.141572\n",
            "7992    0.050587\n",
            "7995    0.045449\n",
            "7996    0.432261\n",
            "7998    0.157259\n",
            "Length: 3900, dtype: float64\n"
          ]
        }
      ]
    },
    {
      "cell_type": "code",
      "source": [
        "#Plot the churn probabilities\n",
        "churn_probs = df['PredictedChurn']\n",
        "\n",
        "plt.figure(figsize=(10, 6))\n",
        "plt.hist(churn_probs, bins=20, edgecolor='black', alpha=0.7, color='orange')\n",
        "plt.xlabel('Churn Probability')\n",
        "plt.ylabel('Frequency')\n",
        "plt.title('Churn Probabilities Holdout samples')\n",
        "plt.grid(axis='y', linestyle='--', alpha=0.7)\n",
        "plt.show()"
      ],
      "metadata": {
        "colab": {
          "base_uri": "https://localhost:8080/",
          "height": 564
        },
        "id": "JbVEWlRYWals",
        "outputId": "ff1fff6f-a514-47b9-d1dd-f960f9eef481"
      },
      "execution_count": 16,
      "outputs": [
        {
          "output_type": "display_data",
          "data": {
            "text/plain": [
              "<Figure size 1000x600 with 1 Axes>"
            ],
            "image/png": "[encoded data removed]"
          },
          "metadata": {}
        }
      ]
    },
    {
      "cell_type": "code",
      "source": [
        "#Question 7: comparing top 10% churn with the rest\n",
        "\n",
        "df_sorted = df.sort_values('PredictedChurn')\n",
        "\n",
        "#split into 90%, 10%\n",
        "split_index = int(len(df_sorted) * 0.9)\n",
        "\n",
        "df_first_90 = df_sorted.iloc[:split_index]\n",
        "df_last_10 = df_sorted.iloc[split_index:]\n",
        "\n",
        "#mean AGE\n",
        "mean_age_churn = df_last_10['Age'].mean()\n",
        "mean_age_NOT_churn = df_first_90['Age'].mean()\n",
        "\n",
        "print(f'Mean age high churn: {mean_age_churn}')\n",
        "print(f'Mean age lower churn: {mean_age_NOT_churn}\\n')\n",
        "\n",
        "#mean SALARY\n",
        "mean_salary_churn = df_last_10['EstimatedSalary'].mean()\n",
        "mean_salary_NOT_churn = df_first_90['EstimatedSalary'].mean()\n",
        "\n",
        "print(f'Mean salary high churn: {mean_salary_churn}')\n",
        "print(f'Mean salary lower churn: {mean_salary_NOT_churn}\\n')\n",
        "\n",
        "#mean PRofitscore\n",
        "mean_profit_churn = df_last_10['ProfitScore'].mean()\n",
        "mean_profit_NOT_churn = df_first_90['ProfitScore'].mean()\n",
        "\n",
        "print(f'Mean profitscore high churn: {mean_profit_churn}')\n",
        "print(f'Mean profitscore lower churn: {mean_profit_NOT_churn}\\n')\n",
        "\n",
        "#mean paidout\n",
        "mean_paidout_churn = df_last_10['Cumamountpaidout'].mean()\n",
        "mean_paidout_NOT_churn = df_first_90['Cumamountpaidout'].mean()\n",
        "\n",
        "print(f'Mean paid out high churn: {mean_paidout_churn}')\n",
        "print(f'Mean paid out lower churn: {mean_paidout_NOT_churn}\\n')\n",
        "\n",
        "#mean number of insurences\n",
        "mean_insur_churn = df_last_10['Numofinsurances'].mean()\n",
        "mean_insur_NOT_churn = df_first_90['Numofinsurances'].mean()\n",
        "\n",
        "print(f'Mean insurences high churn: {mean_insur_churn}')\n",
        "print(f'Mean insurences lower churn: {mean_insur_NOT_churn}\\n')"
      ],
      "metadata": {
        "colab": {
          "base_uri": "https://localhost:8080/"
        },
        "id": "u8LpwNq6XyJp",
        "outputId": "14b18af4-2ede-4a4c-88b6-5fb6b41e3b79"
      },
      "execution_count": 17,
      "outputs": [
        {
          "output_type": "stream",
          "name": "stdout",
          "text": [
            "Mean age high churn: 55.12307692307692\n",
            "Mean age lower churn: 36.004273504273506\n",
            "\n",
            "Mean salary high churn: 102419.90833333334\n",
            "Mean salary lower churn: 100684.76463532764\n",
            "\n",
            "Mean profitscore high churn: 638.6128205128205\n",
            "Mean profitscore lower churn: 647.4726495726495\n",
            "\n",
            "Mean paid out high churn: 101966.98625641025\n",
            "Mean paid out lower churn: 73971.8210940171\n",
            "\n",
            "Mean insurences high churn: 1.3615384615384616\n",
            "Mean insurences lower churn: 1.541025641025641\n",
            "\n"
          ]
        }
      ]
    },
    {
      "cell_type": "markdown",
      "source": [
        "The company should thus target older people, with a higher salary"
      ],
      "metadata": {
        "id": "uxEyedMEbTmr"
      }
    }
  ]
}